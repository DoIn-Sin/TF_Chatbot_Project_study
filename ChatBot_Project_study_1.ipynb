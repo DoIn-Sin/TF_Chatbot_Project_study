{
 "cells": [
  {
   "cell_type": "markdown",
   "metadata": {},
   "source": [
    "# 기본 개념"
   ]
  },
  {
   "cell_type": "markdown",
   "metadata": {},
   "source": [
    "### 토큰 : 문장을 의미가 있는 가장 작은 요소들로 나누었을때, 기본이 되는 단어로 주로 형태소이다.\n",
    "### 토크나이징 : 문장을 의미가 있는 가장 작은 요소들로 나누는 작업이다.\n",
    "### 형태소 : 일정한 의미가 있는 가장 작은 말의 단위, 의미상 더 이상 쪼개지지 않는 단어이다.\n",
    "### 품사 : 단어를 의만 형식, 기능에 따라 분류한 것을 말한다.\n",
    "### *형태소를 토큰 단위로 사용할 경우 단어와 품사 정보를 같이 활용할 수 있기 때문에 효과적이다.\n",
    "### 한국어 문장을 분석하기 위해서는 토크나이징 작업을 제일 먼저 수행해야하며, 토큰 단위를 어떻게 정의하느냐에 따라 자연어 처리 성능에 영향을 미친다.\n",
    "### NLP : Natural Language Process, 자연어 처리\n",
    "### KoNLPy : 한국어 자연어 처리를 위한 파이썬 라이브러리"
   ]
  },
  {
   "cell_type": "markdown",
   "metadata": {},
   "source": [
    "## Kkma : 서울대학교 IDS 연구실에서 자연어 처리를 위해 개발한 한국어 형태소 분석기이다."
   ]
  },
  {
   "cell_type": "code",
   "execution_count": 7,
   "metadata": {},
   "outputs": [
    {
     "name": "stdout",
     "output_type": "stream",
     "text": [
      "['아버지', '가', '방', '에', '들어가', 'ㅂ니다', '.']\n",
      "[('아버지', 'NNG'), ('가', 'JKS'), ('방', 'NNG'), ('에', 'JKM'), ('들어가', 'VV'), ('ㅂ니다', 'EFN'), ('.', 'SF')]\n",
      "['아버지', '방']\n",
      "['오늘 날씨는 어 때요?', '내일은 덥다 던데.']\n"
     ]
    }
   ],
   "source": [
    "from konlpy.tag import Kkma\n",
    "\n",
    "# 꼬꼬마 형태소 분석기 객체 생성\n",
    "kkma = Kkma()\n",
    "\n",
    "# 분석할 텍스트\n",
    "text = \"아버지가 방에 들어갑니다.\"\n",
    "\n",
    "# 형태소 분석기를 통해 형태소 추출\n",
    "morphs = kkma.morphs(text)\n",
    "print(morphs)\n",
    "\n",
    "# 형태소와 품사 태그 추출\n",
    "pos = kkma.pos(text)\n",
    "print(pos)\n",
    "\n",
    "# 명사만 추출\n",
    "nouns = kkma.nouns(text)\n",
    "print(nouns)\n",
    "\n",
    "# 문장 분리\n",
    "sentences = \"오늘 날씨는 어때요? 내일은 덥다던데.\"\n",
    "s = kkma.sentences(sentences)\n",
    "print(s)"
   ]
  },
  {
   "cell_type": "markdown",
   "metadata": {},
   "source": [
    "### text 변수에 저장된 문장을 형태소 단위로 토크나이징 하면 리스트 형태로 반환된다.\n",
    "### NNG : 일반 명사, JKS : 주격 조사, JKM : 부사격 조사, VV : 동사, EFN : 평서형 종결 어미, SF : 마침표, 물음표, 느낌표, 이 외에도 총 56개의 품사 태그를 지원한다.\n",
    "### 위의 품사 이외에 다른 품사 태그가 나온다면 아래 웹사이트 참고하기\n",
    "### kkma.snu.ac.kr/douments/?doc=postag"
   ]
  },
  {
   "cell_type": "markdown",
   "metadata": {},
   "source": [
    "## Komoran : SHineware에서 자바로 개발한 형태소 분석기"
   ]
  },
  {
   "cell_type": "code",
   "execution_count": 10,
   "metadata": {},
   "outputs": [
    {
     "name": "stdout",
     "output_type": "stream",
     "text": [
      "['아버지', '가', '방', '에', '들어가', 'ㅂ니다', '.']\n",
      "[('아버지', 'NNG'), ('가', 'JKS'), ('방', 'NNG'), ('에', 'JKB'), ('들어가', 'VV'), ('ㅂ니다', 'EF'), ('.', 'SF')]\n",
      "['아버지', '방']\n"
     ]
    }
   ],
   "source": [
    "from konlpy.tag import Komoran\n",
    "\n",
    "# 코모란 형태소 분석기 객체 생성\n",
    "komoran = Komoran()\n",
    "\n",
    "# 분석할 텍스트\n",
    "text = \"아버지가 방에 들어갑니다.\"\n",
    "\n",
    "# 형태소 분석기를 통해 형태소 추출\n",
    "morphs = komoran.morphs(text)\n",
    "print(morphs)\n",
    "\n",
    "# 형태소와 품사 태그 추출\n",
    "pos = komoran.pos(text)\n",
    "print(pos)\n",
    "\n",
    "# 명사만 추출\n",
    "nouns = komoran.nouns(text)\n",
    "print(nouns)"
   ]
  },
  {
   "cell_type": "markdown",
   "metadata": {},
   "source": [
    "### text 변수에 저장된 문장을 형태소 단위로 토크나이징 하면 리스트 형태로 반환된다.\n",
    "### NNG : 일반 명사, JKS : 주격 조사, JKB : 부사격 조사, VV : 동사, EF : 종결 어미, SF : 마침표, 물음표, 느낌표, 이 외에도 총 42개의 품사 태그를 지원한다.\n",
    "### Komoran은 Kkma보다 형태소를 빠르게 분석한다.\n",
    "### 위의 품사 이외에 다른 품사 태그가 나온다면 아래의 웹사이트 참고하기\n",
    "### docs.komoran.kr/firststep/postypes.html"
   ]
  },
  {
   "cell_type": "markdown",
   "metadata": {},
   "source": [
    "## Okt : 트위터에서 개발한 Twitter 한국어 처리기(형태소 분석기x)\n",
    "### 형태소 분석기와는 조금 다르게 한국어 처리기로, 정확도가 조금 떨어질 수도 있다. "
   ]
  },
  {
   "cell_type": "code",
   "execution_count": 12,
   "metadata": {},
   "outputs": [
    {
     "name": "stdout",
     "output_type": "stream",
     "text": [
      "['아버지', '가', '방', '에', '들어갑니다', '.']\n",
      "[('아버지', 'Noun'), ('가', 'Josa'), ('방', 'Noun'), ('에', 'Josa'), ('들어갑니다', 'Verb'), ('.', 'Punctuation')]\n",
      "['아버지', '방']\n",
      "오늘 날씨가 좋아요ㅋㅋ\n",
      "['오늘', '오늘 날씨', '좋아욬', '날씨']\n"
     ]
    }
   ],
   "source": [
    "from konlpy.tag import Okt\n",
    "\n",
    "# Okt 한국어 처리기 객체 생성\n",
    "okt = Okt()\n",
    "\n",
    "# 분석할 텍스트\n",
    "text = \"아버지가 방에 들어갑니다.\"\n",
    "\n",
    "# 형태소 추출\n",
    "morphs = okt.morphs(text)\n",
    "print(morphs)\n",
    "\n",
    "# 형태소와 품사 태그 추출\n",
    "pos = okt.pos(text)\n",
    "print(pos)\n",
    "\n",
    "# 명사만 추출\n",
    "nouns = okt.nouns(text)\n",
    "print(nouns)\n",
    "\n",
    "# 정규화, 어구 추출\n",
    "text = \"오늘 날씨가 좋아욬ㅋㅋ\"\n",
    "print(okt.normalize(text))\n",
    "print(okt.phrases(text))\n"
   ]
  },
  {
   "cell_type": "markdown",
   "metadata": {},
   "source": [
    "### text 변수에 저장된 문장을 형태소 단위로 토크나이징하면 리스트 형태로 반환된다.\n",
    "### Noun : 명사, Verb : 동사, Adjective : 형용사, Josa : 조사, Punctuation : 구두점\n",
    "### 위의 품사 이외에 다른 품사 태그가 나온다면 아래의 웹사이트 참고하기\n",
    "### https://openkoreantext.org/\n",
    "### normalize(문장)는 문장을 정규화 시키므로 오탈자 수정에 도움이 된다.\n",
    "### 지원하는 품사 태그는 적지만, 분석 속도가 가장 빠르며 오탈자 수정에 용이하다."
   ]
  },
  {
   "cell_type": "markdown",
   "metadata": {},
   "source": [
    "# 사용자 사전 구축"
   ]
  },
  {
   "cell_type": "markdown",
   "metadata": {},
   "source": [
    "### 챗봇의 데이터 입력단은 인터넷 구어체와 관련이 많다. 그러나 사용자들은 구어체나 문어체를 많이 사용하지 않으므로 새롭게 생겨나는 단언아 문장을 형태소 분석기에서 인식이 안 되는 경우가 많다. 이를 해결하기 위해 많은 형태소 분석기들은 사용자 사전을 추가할 수 있도록 구성되어 있다. 이 절에서는 형태소 분석기에서 인식하지 못하는 단어들을 직접 추가하는 방법을 설명한다. 사용자 사전을 구축하지 않고 데이터 기반으로 새로운 단어를 추출해 적용하는 기술이 개발되고 있으나 난이도가 높기 때문에 추후 다시 알아보기로 한다."
   ]
  },
  {
   "cell_type": "code",
   "execution_count": 14,
   "metadata": {},
   "outputs": [
    {
     "name": "stdout",
     "output_type": "stream",
     "text": [
      "[('우리', 'NP'), ('챗봇은', 'NA'), ('엔', 'NNB'), ('엘', 'NNP'), ('피', 'NNG'), ('를', 'JKO'), ('좋아하', 'VV'), ('아', 'EC')]\n"
     ]
    }
   ],
   "source": [
    "from konlpy.tag import Komoran\n",
    "\n",
    "komoran = Komoran()\n",
    "text = \"우리 챗봇은 엔엘피를 좋아해\"\n",
    "pos = komoran.pos(text)\n",
    "print(pos)"
   ]
  },
  {
   "cell_type": "markdown",
   "metadata": {},
   "source": [
    "### 엔엘피는 한 단어로 생각하여 입력했으나 형태소 분석기는 엔, 엘, 피를 구분하여 명사로 인식하였다. 따라서 사용자 사전에 엔엘피 라는 단어를 등록해야한다."
   ]
  },
  {
   "cell_type": "code",
   "execution_count": 16,
   "metadata": {},
   "outputs": [
    {
     "name": "stdout",
     "output_type": "stream",
     "text": [
      "[('우리', 'NP'), ('챗봇은', 'NA'), ('엔엘피', 'NNG'), ('를', 'JKO'), ('좋아하', 'VV'), ('아', 'EC')]\n"
     ]
    }
   ],
   "source": [
    "from konlpy.tag import Komoran\n",
    "\n",
    "komoran = Komoran(userdic='./user_dic.tsv')\n",
    "text = \"우리 챗봇은 엔엘피를 좋아해\"\n",
    "pos = komoran.pos(text)\n",
    "print(pos)"
   ]
  }
 ],
 "metadata": {
  "kernelspec": {
   "display_name": "Python 3",
   "language": "python",
   "name": "python3"
  },
  "language_info": {
   "codemirror_mode": {
    "name": "ipython",
    "version": 3
   },
   "file_extension": ".py",
   "mimetype": "text/x-python",
   "name": "python",
   "nbconvert_exporter": "python",
   "pygments_lexer": "ipython3",
   "version": "3.8.3"
  }
 },
 "nbformat": 4,
 "nbformat_minor": 4
}
